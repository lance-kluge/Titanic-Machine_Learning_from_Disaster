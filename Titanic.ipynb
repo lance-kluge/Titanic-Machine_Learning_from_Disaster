{
 "cells": [
  {
   "cell_type": "code",
   "execution_count": 19,
   "metadata": {},
   "outputs": [],
   "source": [
    "import pandas as pd\n",
    "from sklearn.model_selection import train_test_split\n",
    "from sklearn.metrics import mean_absolute_error\n",
    "import numpy as np\n",
    "import os\n",
    "from sklearn.ensemble import VotingClassifier\n",
    "from sklearn.ensemble import RandomForestClassifier\n",
    "from sklearn.ensemble import ExtraTreesClassifier\n",
    "from sklearn.ensemble import HistGradientBoostingClassifier\n",
    "from xgboost import XGBClassifier"
   ]
  },
  {
   "cell_type": "code",
   "execution_count": 3,
   "metadata": {},
   "outputs": [
    {
     "name": "stdout",
     "output_type": "stream",
     "text": [
      "Setup Complete\n"
     ]
    }
   ],
   "source": [
    "X = pd.read_csv('train.csv', index_col='PassengerId')\n",
    "X_test = pd.read_csv('test.csv', index_col = 'PassengerId')\n",
    "\n",
    "\n",
    "\n",
    "X.drop(X[X['Cabin'].str[0] == 'T'].index, inplace=True)\n",
    "y = X.Survived\n",
    "X['Cabin_Char'] = X['Cabin'].str[0]\n",
    "\n",
    "X_test['Cabin_Char'] = X_test['Cabin'].str[0]\n",
    "\n",
    "\n",
    "X = X.drop(columns = ['Survived', 'Name', 'Cabin', 'Ticket'], axis = 1)\n",
    "X_test = X_test.drop(columns= ['Name', 'Cabin', 'Ticket'], axis = 1)\n",
    "\n",
    "X_train_full, X_valid_full, y_train, y_valid = train_test_split(X, y, train_size=0.88, test_size=0.12,random_state=0)\n",
    "\n",
    "X_train = pd.get_dummies(X_train_full)\n",
    "X_valid = pd.get_dummies(X_valid_full)\n",
    "X_test = pd.get_dummies(X_test)\n",
    "\n",
    "\n",
    "print(\"Setup Complete\")"
   ]
  },
  {
   "cell_type": "code",
   "execution_count": 10,
   "metadata": {},
   "outputs": [
    {
     "name": "stdout",
     "output_type": "stream",
     "text": [
      "0.1308411214953271\n"
     ]
    }
   ],
   "source": [
    "model = XGBClassifier(random_state = 0, n_estimators = 100, learning_rate = 0.01, early_stopping_rounds=8,max_depth=12,colsample_bytree = 0.96, eval_metric = 'mae') \n",
    "model.fit(X_train, y_train, eval_set=[(X_valid, y_valid)], verbose=False)\n",
    "predictions = np.array(model.predict(X_valid))\n",
    "mae = mean_absolute_error(predictions, y_valid)\n",
    "print(mae)"
   ]
  },
  {
   "cell_type": "code",
   "execution_count": 126,
   "metadata": {},
   "outputs": [
    {
     "name": "stdout",
     "output_type": "stream",
     "text": [
      "0.14018691588785046\n"
     ]
    }
   ],
   "source": [
    "estimator = []\n",
    "\n",
    "estimator.append(('RandomForest', RandomForestClassifier(n_estimators = 170, max_depth=6, random_state = 0) ))\n",
    "estimator.append(('HistGradient', HistGradientBoostingClassifier(learning_rate=0.04, max_iter=120, max_leaf_nodes=7, max_depth=15, random_state = 0) ))\n",
    "estimator.append(('XGB', XGBClassifier(random_state = 0, n_estimators = 200, learning_rate = 0.01,max_depth=10,colsample_bytree = 0.96)))\n",
    "\n",
    "\n",
    "ensemble = VotingClassifier(estimators=estimator, voting='hard')\n",
    "\n",
    "ensemble.fit(X_train, y_train)\n",
    "\n",
    "predictions = np.array(ensemble.predict(X_valid))\n",
    "mae = mean_absolute_error(predictions, y_valid)\n",
    "print(mae)"
   ]
  },
  {
   "cell_type": "code",
   "execution_count": 127,
   "metadata": {},
   "outputs": [],
   "source": [
    "preds_test = ensemble.predict(X_test) # Your code here\n",
    "\n",
    "output = pd.DataFrame({'PassengerId': X_test.index,\n",
    "                       'Survived': preds_test})\n",
    "output.to_csv('submission.csv', index=False)"
   ]
  },
  {
   "cell_type": "code",
   "execution_count": null,
   "metadata": {},
   "outputs": [],
   "source": []
  }
 ],
 "metadata": {
  "kernelspec": {
   "display_name": "Python 3",
   "language": "python",
   "name": "python3"
  },
  "language_info": {
   "codemirror_mode": {
    "name": "ipython",
    "version": 3
   },
   "file_extension": ".py",
   "mimetype": "text/x-python",
   "name": "python",
   "nbconvert_exporter": "python",
   "pygments_lexer": "ipython3",
   "version": "3.13.1"
  }
 },
 "nbformat": 4,
 "nbformat_minor": 2
}
